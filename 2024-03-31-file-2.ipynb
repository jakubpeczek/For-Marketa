{
 "cells": [
  {
   "cell_type": "code",
   "execution_count": 3,
   "metadata": {
    "collapsed": false
   },
   "outputs": [
    {
     "ename": "ModuleNotFoundError",
     "evalue": "No module named 'visualisation'",
     "output_type": "error",
     "traceback": [
      "\u001b[0;31m---------------------------------------------------------------------------\u001b[0m",
      "\u001b[0;31mModuleNotFoundError\u001b[0m                       Traceback (most recent call last)",
      "\u001b[0;32m/tmp/ipykernel_1761/1981817704.py\u001b[0m in \u001b[0;36m<cell line: 3>\u001b[0;34m()\u001b[0m\n\u001b[1;32m      1\u001b[0m \u001b[0;32mimport\u001b[0m \u001b[0mnumpy\u001b[0m \u001b[0;32mas\u001b[0m \u001b[0mnp\u001b[0m\u001b[0;34m\u001b[0m\u001b[0;34m\u001b[0m\u001b[0m\n\u001b[1;32m      2\u001b[0m \u001b[0;32mimport\u001b[0m \u001b[0mpandas\u001b[0m \u001b[0;32mas\u001b[0m \u001b[0mpd\u001b[0m\u001b[0;34m\u001b[0m\u001b[0;34m\u001b[0m\u001b[0m\n\u001b[0;32m----> 3\u001b[0;31m \u001b[0;32mimport\u001b[0m \u001b[0mvisualisation\u001b[0m \u001b[0;31m# Python functions from the PCA lab\u001b[0m\u001b[0;34m\u001b[0m\u001b[0;34m\u001b[0m\u001b[0m\n\u001b[0m\u001b[1;32m      4\u001b[0m \u001b[0;32mimport\u001b[0m \u001b[0mclustering\u001b[0m \u001b[0;31m# Python functions from the clustering lab\u001b[0m\u001b[0;34m\u001b[0m\u001b[0;34m\u001b[0m\u001b[0m\n\u001b[1;32m      5\u001b[0m \u001b[0;32mimport\u001b[0m \u001b[0mplotly\u001b[0m\u001b[0;34m\u001b[0m\u001b[0;34m\u001b[0m\u001b[0m\n",
      "\u001b[0;31mModuleNotFoundError\u001b[0m: No module named 'visualisation'"
     ]
    }
   ],
   "source": [
    "import numpy as np\n",
    "import pandas as pd\n",
    "import visualisation\n",
    "import clustering\n",
    "import plotly\n",
    "import plotly.express as px\n",
    "import plotly.graph_objs as go\n",
    "from sklearn.metrics import adjusted_rand_score\n",
    "\n",
    "FlowDataAll = pd.read_csv('FlowData.csv', index_col=[0])\n",
    "labelsAll = FlowDataAll.index  # The labels give the cell-type for each cell\n",
    "\n",
    "#Make a data subsdet containing 5 of the major cell-type subsets and 400 cells\n",
    "frames = [\n",
    "    FlowDataAll.iloc[labelsAll == 'T cells', :],\n",
    "    FlowDataAll.iloc[labelsAll == 'Neutrophils', :],\n",
    "    FlowDataAll.iloc[labelsAll == 'Monocytes', :],\n",
    "    FlowDataAll.iloc[labelsAll == 'NK cells', :],\n",
    "    FlowDataAll.iloc[labelsAll == 'Eosinophils', :]\n",
    "]\n",
    "data = pd.concat(frames)\n",
    "data = data.sample(400, random_state=1)  #Take only 400 cells (at random)\n",
    "labels = data.index\n",
    "N, D = data.shape\n",
    "print('Cells: %s, Markers: %s' % (N, D))\n",
    "data.head()\n",
    "\n",
    "W, scores, fracs = visualisation.do_pca(data)\n",
    "# W - Factor loading matrix,\n",
    "# scores - PCA scores can be used to visualise data in a lower dimensional space\n",
    "# fracs - Eigenvalues (normalised to sum to one) give fraction of variance explained by each principal component (PC)\n",
    "\n",
    "scores = scores / abs(scores).max().max()\n",
    "# Scale the scores by the maximum value in the score matrix so the plots look better\n",
    "\n",
    "scores['label'] = labels  # Add a column with labels for plotting\n",
    "\n",
    "W\n",
    "\n",
    "scores.shape\n",
    "\n",
    "scores\n",
    "\n",
    "fracs\n",
    "\n",
    "x = np.arange(\n",
    "    1,\n",
    "    len(fracs) +\n",
    "    1)  # Create a numpy array from 1 up to the length of the fracs vector\n",
    "y = np.array(fracs)  # Put the fracs into an numpy array\n",
    "fig = go.Figure(data=go.Scatter(x=x, y=y))\n",
    "fig.update_layout(xaxis_title='Principal component',\n",
    "                  yaxis_title='Variance explained (fraction)',\n",
    "                  xaxis=dict(dtick=1.0))\n",
    "fig.show()\n",
    "\n",
    "x = np.arange(1, len(fracs) + 1)\n",
    "y = np.cumsum(fracs)  # Cumulative sum of elements in the fracs array\n",
    "fig = go.Figure(data=go.Scatter(x=x, y=y))\n",
    "fig.update_layout(xaxis_title='Principal component',\n",
    "                  yaxis_title='Variance explained (cummulative)',\n",
    "                  xaxis=dict(dtick=1.0))\n",
    "fig.show()\n",
    "\n",
    "XPC = 'PC1'  # Principal component shown on x-axis\n",
    "YPC = 'PC2'  # Principal component shown on y-axis\n",
    "fig = px.scatter(scores, x=XPC, y=YPC, color='label', hover_data=[XPC, YPC])\n",
    "fig.update_traces(mode='markers', marker_line_width=1, marker_size=8)\n",
    "fig.show()\n",
    "\n",
    "explained_variance_ratio = data.explained_variance_ratio_\n",
    "print(\n",
    "    f\"Percentage of variance explained by PC1: {explained_variance_ratio[0] * 100:.2f}%\"\n",
    ")\n",
    "print(\n",
    "    f\"Percentage of variance explained by PC2: {explained_variance_ratio[1] * 100:.2f}%\"\n",
    ")\n",
    "explained_variance_ratio = data.explained_variance_ratio_\n",
    "\n",
    "explained_variance_ratio\n",
    "\n",
    "from sklearn.cluster import KMeans\n",
    "\n",
    "kmeans = KMeans(n_clusters=3, random_state=0, n_init=10).fit(data.values)\n",
    "\n",
    "kmeanslabels = kmeans.labels_\n",
    "print(kmeanslabels)\n",
    "\n",
    "fig = px.scatter(scores, x='PC1', y='PC2', color=labels, symbol=kmeanslabels)\n",
    "fig.update_traces(mode='markers', marker_line_width=1, marker_size=8)\n",
    "fig.show()\n",
    "\n",
    "df = pd.DataFrame({'Labels': labels, 'Clusters': kmeanslabels})\n",
    "ct = pd.crosstab(df['Clusters'], df['Labels'])\n",
    "print(ct)\n",
    "\n",
    "kmeansARI = adjusted_rand_score(kmeanslabels, labels)\n",
    "print(kmeansARI)\n",
    "\n",
    "from scipy.cluster.hierarchy import linkage\n",
    "\n",
    "np.set_printoptions(precision=5,\n",
    "                    suppress=True)  # suppress scientific float notation\n",
    "%matplotlib inline\n",
    "\n",
    "# generate the linkage matrix\n",
    "X = data.values\n",
    "print('Shape', X.shape)\n",
    "Z = linkage(X, method='ward', metric='euclidean')\n",
    "print(Z)\n",
    "\n",
    "clusterlabels = clustering.Dendogram(data,\n",
    "                                     method='ward',\n",
    "                                     metric='euclidean',\n",
    "                                     distanceThreshold=0.3)\n",
    "\n",
    "df = pd.DataFrame({'Labels': labels, 'Clusters': 'clusterlabels'})\n",
    "ct = pd.crosstab(df['Clusters'], df['Labels'])\n",
    "print(ct)"
   ]
  },
  {
   "cell_type": "code",
   "execution_count": 0,
   "metadata": {
    "collapsed": false
   },
   "outputs": [
   ],
   "source": [
   ]
  },
  {
   "cell_type": "code",
   "execution_count": 0,
   "metadata": {
    "collapsed": false
   },
   "outputs": [
   ],
   "source": [
   ]
  }
 ],
 "metadata": {
  "kernelspec": {
   "argv": [
    "/usr/bin/python3",
    "-m",
    "ipykernel",
    "--HistoryManager.enabled=False",
    "--matplotlib=inline",
    "-c",
    "%config InlineBackend.figure_formats = set(['retina'])\nimport matplotlib; matplotlib.rcParams['figure.figsize'] = (12, 7)",
    "-f",
    "{connection_file}"
   ],
   "display_name": "Python 3 (system-wide)",
   "env": {
   },
   "language": "python",
   "metadata": {
    "cocalc": {
     "description": "Python 3 programming language",
     "priority": 100,
     "url": "https://www.python.org/"
    }
   },
   "name": "python3",
   "resource_dir": "/ext/jupyter/kernels/python3"
  },
  "language_info": {
   "codemirror_mode": {
    "name": "ipython",
    "version": 3
   },
   "file_extension": ".py",
   "mimetype": "text/x-python",
   "name": "python",
   "nbconvert_exporter": "python",
   "pygments_lexer": "ipython3",
   "version": "3.10.12"
  }
 },
 "nbformat": 4,
 "nbformat_minor": 4
}